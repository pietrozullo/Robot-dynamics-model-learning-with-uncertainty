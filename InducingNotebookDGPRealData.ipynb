{
 "cells": [
  {
   "cell_type": "code",
   "execution_count": 1,
   "metadata": {},
   "outputs": [],
   "source": [
    "import numpy as np \n",
    "import GPy\n",
    "import deepgp\n",
    "import math\n",
    "from matplotlib import pyplot as plt\n",
    "%matplotlib inline\n",
    "import seaborn as sns\n",
    "import torch \n",
    "import time as timex\n",
    "import pickle\n",
    "import pandas as pd\n",
    "sns.set()\n",
    "sns.set_style(\"whitegrid\")\n",
    "sns.set_context(\"paper\")\n",
    "colors = sns.color_palette(\"tab10\")\n",
    "sns.set_palette(colors)\n",
    "plt.rcParams[\"figure.figsize\"] = [16, 9]\n",
    "plt.rcParams[\"figure.autolayout\"] = True\n",
    "plt.rcParams['legend.loc'] = \"upper right\"\n",
    "\n",
    "SMALL_SIZE = 8\n",
    "MEDIUM_SIZE = 15\n",
    "BIGGER_SIZE = 20\n",
    "\n",
    "plt.rc('font', size=BIGGER_SIZE)          # controls default text sizes\n",
    "plt.rc('axes', titlesize=BIGGER_SIZE)     # fontsize of the axes title\n",
    "plt.rc('axes', labelsize=BIGGER_SIZE)    # fontsize of the x and y labels\n",
    "plt.rc('xtick', labelsize=MEDIUM_SIZE)    # fontsize of the tick labels\n",
    "plt.rc('ytick', labelsize=MEDIUM_SIZE)    # fontsize of the tick labels\n",
    "plt.rc('legend', fontsize=BIGGER_SIZE)    # legend fontsize\n",
    "plt.rc('figure', titlesize=BIGGER_SIZE)  # fontsize of the figure \n",
    "\n",
    "def RMSE(y,mean): \n",
    "    if type(y) == torch.Tensor:\n",
    "        y = y.cpu().numpy()\n",
    "    if type(mean) == torch.Tensor:\n",
    "        mean = mean.cpu().numpy()\n",
    "        \n",
    "    return np.sqrt(((y-mean)**2).mean()).item()\n",
    "\n",
    "def NLL(y,mean,std):\n",
    "    if type(y) == torch.Tensor:\n",
    "        y = y.cpu().numpy()\n",
    "    if type(mean) == torch.Tensor:\n",
    "        mean = mean.cpu().numpy()\n",
    "    if type(std) == torch.Tensor :\n",
    "        std = std.cpu().numpy()\n",
    "    return -0.5*((np.log(std**2)+((y-mean)/(std))**2).sum())"
   ]
  },
  {
   "cell_type": "code",
   "execution_count": 18,
   "metadata": {},
   "outputs": [
    {
     "name": "stdout",
     "output_type": "stream",
     "text": [
      "(1, 6)\n",
      "idx_star_baseline 949 ------- 5943\n",
      "idx_star_baseline 1587 ------- 4785\n"
     ]
    }
   ],
   "source": [
    "#Define the path to the training data\n",
    "validation_data_path15 = './20201030bag15.pickled'\n",
    "validation_data_path3  = './20201030bag3.pickled'\n",
    "training_data_path     = './final_training_data.pickled'\n",
    "\n",
    "#Loading Traning Data\n",
    "training_data = pickle.load(open(validation_data_path15, \"rb\"))\n",
    "train_x = training_data['features']\n",
    "y_train = training_data['labels']\n",
    "train_Fx = y_train[:,0].reshape(-1,1)\n",
    "train_Fy = y_train[:,1].reshape(-1,1)\n",
    "train_Fz = y_train[:,2].reshape(-1,1)\n",
    "\n",
    "#Load test ddata\n",
    "#In distro\n",
    "test_data_3 = pickle.load(open(validation_data_path3, \"rb\"))\n",
    "test_x = test_data_3['features']\n",
    "y_test_3 = test_data_3['labels']\n",
    "time = test_data_3['labels_timestamp']\n",
    "test_Fx = y_test_3[:,0].squeeze()\n",
    "test_Fy = y_test_3[:,1].squeeze()\n",
    "test_Fz = y_test_3[:,2].squeeze()\n",
    "\n",
    "print(test_x[1,:].reshape(-1,1).T.shape)\n",
    "\n",
    "#Out distro\n",
    "test_data_15 = pickle.load(open(validation_data_path15, \"rb\"))\n",
    "test_x_out = test_data_15['features']\n",
    "y_test_15 = test_data_15['labels']\n",
    "time_out = test_data_15['labels_timestamp']\n",
    "test_Fx_out = y_test_15[:,0].squeeze()\n",
    "test_Fy_out = y_test_15[:,1].squeeze()\n",
    "test_Fz_out = y_test_15[:,2].squeeze()\n",
    "\n",
    "\n",
    "GP_pred = np.genfromtxt(\"../BaselineResults/GP_baseline_bag3.csv\", delimiter=',')\n",
    "baseline_time = np.genfromtxt(\"../BaselineResults/GP_x_axis_bag3.csv\", delimiter=',')\n",
    "\n",
    "idx_start_baseline = np.argwhere(baseline_time > time[0])[0].item()\n",
    "idx_stop_baseline = idx_start_baseline + len(time)\n",
    "print('idx_star_baseline',idx_start_baseline,'-------',idx_stop_baseline)\n",
    "\n",
    "baseline_time = baseline_time[idx_start_baseline:idx_stop_baseline]\n",
    "\n",
    "baseline_Fx = GP_pred[idx_start_baseline:idx_stop_baseline,0]\n",
    "baseline_Fy = GP_pred[idx_start_baseline:idx_stop_baseline,1]\n",
    "baseline_Fz = GP_pred[idx_start_baseline:idx_stop_baseline,2]\n",
    "\n",
    "#Out distrtibution\n",
    "GP_pred = np.genfromtxt(\"../BaselineResults/GP_baseline_bag15.csv\", delimiter=',')\n",
    "baseline_time_out = np.genfromtxt(\"../BaselineResults/GP_x_axis_bag15.csv\", delimiter=',')\n",
    "\n",
    "idx_start_baseline = np.argwhere(baseline_time_out > time_out[0])[0].item()\n",
    "idx_stop_baseline = idx_start_baseline + len(time_out)\n",
    "print('idx_star_baseline',idx_start_baseline,'-------',idx_stop_baseline)\n",
    "\n",
    "baseline_time_out = baseline_time_out[idx_start_baseline:idx_stop_baseline]\n",
    "\n",
    "baseline_Fx_out = GP_pred[idx_start_baseline:idx_stop_baseline,0]\n",
    "baseline_Fy_out = GP_pred[idx_start_baseline:idx_stop_baseline,1]\n",
    "baseline_Fz_out = GP_pred[idx_start_baseline:idx_stop_baseline,2]"
   ]
  },
  {
   "cell_type": "code",
   "execution_count": 41,
   "metadata": {},
   "outputs": [],
   "source": [
    "TRAINING_TIMES_X = []\n",
    "INFERENCE_TIME_X = []\n",
    "TRAINING_TIMES_Y = []\n",
    "INFERENCE_TIME_Y = []\n",
    "TRAINING_TIMES_Z = []\n",
    "INFERENCE_TIME_Z = []\n",
    "\n",
    "\n",
    "\n",
    "PREDICTIONS_X = []\n",
    "STD_X = []\n",
    "RMSE_X = []\n",
    "PREDICTIONS_X_OUT = []\n",
    "STD_X_OUT = []\n",
    "RMSE_X_OUT = []\n",
    "PREDICTIONS_Y = []\n",
    "STD_Y = []\n",
    "RMSE_Y = []\n",
    "PREDICTIONS_Y_OUT = []\n",
    "STD_Y_OUT = []\n",
    "RMSE_Y_OUT = []\n",
    "PREDICTIONS_Z = []\n",
    "STD_Z = []\n",
    "RMSE_Z = []\n",
    "PREDICTIONS_Z_OUT = []\n",
    "STD_Z_OUT = []\n",
    "RMSE_Z_OUT = []\n",
    "\n",
    "INDUCING = [10,20,30,40,50,60,70,80,90,100]\n",
    "\n",
    "layers = [1, 1, 1, 1, 6];\n",
    "    "
   ]
  },
  {
   "cell_type": "code",
   "execution_count": 42,
   "metadata": {},
   "outputs": [
    {
     "name": "stdout",
     "output_type": "stream",
     "text": [
      "layers [1, 1, 1, 1, 6]\n"
     ]
    },
    {
     "data": {
      "application/vnd.jupyter.widget-view+json": {
       "model_id": "ac7083fa7bd84a649a62c105c6dfac74",
       "version_major": 2,
       "version_minor": 0
      },
      "text/plain": [
       "HBox(children=(VBox(children=(IntProgress(value=0, max=1000), HTML(value=''))), Box(children=(HTML(value=''),)…"
      ]
     },
     "metadata": {},
     "output_type": "display_data"
    },
    {
     "name": "stdout",
     "output_type": "stream",
     "text": [
      "layers [1, 1, 1, 1, 6]\n"
     ]
    },
    {
     "data": {
      "application/vnd.jupyter.widget-view+json": {
       "model_id": "26d4a6e053634dcca5cdd2c27e1374d4",
       "version_major": 2,
       "version_minor": 0
      },
      "text/plain": [
       "HBox(children=(VBox(children=(IntProgress(value=0, max=1000), HTML(value=''))), Box(children=(HTML(value=''),)…"
      ]
     },
     "metadata": {},
     "output_type": "display_data"
    },
    {
     "name": "stdout",
     "output_type": "stream",
     "text": [
      "layers [1, 1, 1, 1, 6]\n"
     ]
    },
    {
     "data": {
      "application/vnd.jupyter.widget-view+json": {
       "model_id": "f6e6d28471954b54a7a4962e3e59d3d5",
       "version_major": 2,
       "version_minor": 0
      },
      "text/plain": [
       "HBox(children=(VBox(children=(IntProgress(value=0, max=1000), HTML(value=''))), Box(children=(HTML(value=''),)…"
      ]
     },
     "metadata": {},
     "output_type": "display_data"
    },
    {
     "name": "stdout",
     "output_type": "stream",
     "text": [
      "layers [1, 1, 1, 1, 6]\n"
     ]
    },
    {
     "data": {
      "application/vnd.jupyter.widget-view+json": {
       "model_id": "8c7f90109e9d49439c8ffb2c51f9b737",
       "version_major": 2,
       "version_minor": 0
      },
      "text/plain": [
       "HBox(children=(VBox(children=(IntProgress(value=0, max=1000), HTML(value=''))), Box(children=(HTML(value=''),)…"
      ]
     },
     "metadata": {},
     "output_type": "display_data"
    },
    {
     "name": "stdout",
     "output_type": "stream",
     "text": [
      "layers [1, 1, 1, 1, 6]\n"
     ]
    },
    {
     "data": {
      "application/vnd.jupyter.widget-view+json": {
       "model_id": "9ced4b7ccc0d4dafa2b950ca3e8b1625",
       "version_major": 2,
       "version_minor": 0
      },
      "text/plain": [
       "HBox(children=(VBox(children=(IntProgress(value=0, max=1000), HTML(value=''))), Box(children=(HTML(value=''),)…"
      ]
     },
     "metadata": {},
     "output_type": "display_data"
    },
    {
     "name": "stdout",
     "output_type": "stream",
     "text": [
      "layers [1, 1, 1, 1, 6]\n"
     ]
    },
    {
     "data": {
      "application/vnd.jupyter.widget-view+json": {
       "model_id": "9af71713e7b24cd89e94bbd7d10644c2",
       "version_major": 2,
       "version_minor": 0
      },
      "text/plain": [
       "HBox(children=(VBox(children=(IntProgress(value=0, max=1000), HTML(value=''))), Box(children=(HTML(value=''),)…"
      ]
     },
     "metadata": {},
     "output_type": "display_data"
    },
    {
     "name": "stdout",
     "output_type": "stream",
     "text": [
      "layers [1, 1, 1, 1, 6]\n"
     ]
    },
    {
     "data": {
      "application/vnd.jupyter.widget-view+json": {
       "model_id": "024aa9aa830845b8a62845a9bbe48349",
       "version_major": 2,
       "version_minor": 0
      },
      "text/plain": [
       "HBox(children=(VBox(children=(IntProgress(value=0, max=1000), HTML(value=''))), Box(children=(HTML(value=''),)…"
      ]
     },
     "metadata": {},
     "output_type": "display_data"
    },
    {
     "name": "stdout",
     "output_type": "stream",
     "text": [
      "layers [1, 1, 1, 1, 6]\n"
     ]
    },
    {
     "data": {
      "application/vnd.jupyter.widget-view+json": {
       "model_id": "666977d9fe9e417db0bd3bc1bdd4ffb2",
       "version_major": 2,
       "version_minor": 0
      },
      "text/plain": [
       "HBox(children=(VBox(children=(IntProgress(value=0, max=1000), HTML(value=''))), Box(children=(HTML(value=''),)…"
      ]
     },
     "metadata": {},
     "output_type": "display_data"
    },
    {
     "name": "stdout",
     "output_type": "stream",
     "text": [
      "layers [1, 1, 1, 1, 6]\n"
     ]
    },
    {
     "data": {
      "application/vnd.jupyter.widget-view+json": {
       "model_id": "d887833b483e498c814138ed978bb7c0",
       "version_major": 2,
       "version_minor": 0
      },
      "text/plain": [
       "HBox(children=(VBox(children=(IntProgress(value=0, max=1000), HTML(value=''))), Box(children=(HTML(value=''),)…"
      ]
     },
     "metadata": {},
     "output_type": "display_data"
    },
    {
     "name": "stdout",
     "output_type": "stream",
     "text": [
      "layers [1, 1, 1, 1, 6]\n"
     ]
    },
    {
     "data": {
      "application/vnd.jupyter.widget-view+json": {
       "model_id": "903b8bb2656d4ea8905aaa2931022b3a",
       "version_major": 2,
       "version_minor": 0
      },
      "text/plain": [
       "HBox(children=(VBox(children=(IntProgress(value=0, max=1000), HTML(value=''))), Box(children=(HTML(value=''),)…"
      ]
     },
     "metadata": {},
     "output_type": "display_data"
    }
   ],
   "source": [
    "for num_inducing in INDUCING:\n",
    "    print('layers',layers)\n",
    "    inits = ['PCA']*(len(layers)-1)\n",
    "    kernels = []\n",
    "    for i in layers[1:]:\n",
    "        kernels += [GPy.kern.RBF(i)]\n",
    "    \n",
    "    mx = deepgp.DeepGP(layers,Y=train_Fx, X=train_x, \n",
    "                  inits=inits, \n",
    "                  kernels=kernels, # the kernels for each layer\n",
    "                  num_inducing=num_inducing, back_constraint=False)\n",
    "\n",
    "    mx.initialize_parameter()\n",
    "    start = timex.time()\n",
    "    mx.optimize(messages=True,max_iters=1000)\n",
    "    stop = timex.time()\n",
    "    TRAINING_TIMES_X.append(stop-start)\n",
    "    start= timex.time()\n",
    "    _,_ = mx.predict(test_x[1,:].reshape(-1,1).T)\n",
    "    stop = timex.time()\n",
    "    INFERENCE_TIME_X.append(stop-start)\n",
    "    #-----X\n",
    "    #In distribution performance\n",
    "    mean_Fx,varx = mx.predict(test_x)\n",
    "    mean_Fx = mean_Fx.squeeze()\n",
    "    std_Fx = np.sqrt(varx).squeeze()\n",
    "    PREDICTIONS_X.append(mean_Fx)\n",
    "    STD_X.append(std_Fx)\n",
    "    RMSE_X.append(RMSE(test_Fx,mean_Fx)) \n",
    "    #Out of distro performance  \n",
    "    mean_Fx_out,varx_out = mx.predict(test_x_out)\n",
    "    mean_Fx_out = mean_Fx_out.squeeze()\n",
    "    std_Fx_out = np.sqrt(varx_out).squeeze()\n",
    "    PREDICTIONS_X_OUT.append(mean_Fx_out)\n",
    "    STD_X_OUT.append(std_Fx_out)\n",
    "    RMSE_X_OUT.append(RMSE(test_Fx_out,mean_Fx_out)) "
   ]
  },
  {
   "cell_type": "code",
   "execution_count": 43,
   "metadata": {},
   "outputs": [
    {
     "name": "stdout",
     "output_type": "stream",
     "text": [
      "layers [1, 1, 1, 1, 6]\n"
     ]
    },
    {
     "data": {
      "application/vnd.jupyter.widget-view+json": {
       "model_id": "fc76184aeda84027a2de18a32547ad44",
       "version_major": 2,
       "version_minor": 0
      },
      "text/plain": [
       "HBox(children=(VBox(children=(IntProgress(value=0, max=1000), HTML(value=''))), Box(children=(HTML(value=''),)…"
      ]
     },
     "metadata": {},
     "output_type": "display_data"
    },
    {
     "name": "stdout",
     "output_type": "stream",
     "text": [
      "layers [1, 1, 1, 1, 6]\n"
     ]
    },
    {
     "data": {
      "application/vnd.jupyter.widget-view+json": {
       "model_id": "4bf3341810754c4dadf8dfb678345933",
       "version_major": 2,
       "version_minor": 0
      },
      "text/plain": [
       "HBox(children=(VBox(children=(IntProgress(value=0, max=1000), HTML(value=''))), Box(children=(HTML(value=''),)…"
      ]
     },
     "metadata": {},
     "output_type": "display_data"
    },
    {
     "name": "stdout",
     "output_type": "stream",
     "text": [
      "layers [1, 1, 1, 1, 6]\n"
     ]
    },
    {
     "data": {
      "application/vnd.jupyter.widget-view+json": {
       "model_id": "325f0664b4064bdf97217e9dfeaec5c7",
       "version_major": 2,
       "version_minor": 0
      },
      "text/plain": [
       "HBox(children=(VBox(children=(IntProgress(value=0, max=1000), HTML(value=''))), Box(children=(HTML(value=''),)…"
      ]
     },
     "metadata": {},
     "output_type": "display_data"
    },
    {
     "name": "stdout",
     "output_type": "stream",
     "text": [
      "layers [1, 1, 1, 1, 6]\n"
     ]
    },
    {
     "data": {
      "application/vnd.jupyter.widget-view+json": {
       "model_id": "47132390cc06406a933ffe9dfe1dd8a0",
       "version_major": 2,
       "version_minor": 0
      },
      "text/plain": [
       "HBox(children=(VBox(children=(IntProgress(value=0, max=1000), HTML(value=''))), Box(children=(HTML(value=''),)…"
      ]
     },
     "metadata": {},
     "output_type": "display_data"
    },
    {
     "name": "stdout",
     "output_type": "stream",
     "text": [
      "layers [1, 1, 1, 1, 6]\n"
     ]
    },
    {
     "data": {
      "application/vnd.jupyter.widget-view+json": {
       "model_id": "65a52458f3c545e28edc8f9e13aaa695",
       "version_major": 2,
       "version_minor": 0
      },
      "text/plain": [
       "HBox(children=(VBox(children=(IntProgress(value=0, max=1000), HTML(value=''))), Box(children=(HTML(value=''),)…"
      ]
     },
     "metadata": {},
     "output_type": "display_data"
    },
    {
     "name": "stdout",
     "output_type": "stream",
     "text": [
      "layers [1, 1, 1, 1, 6]\n"
     ]
    },
    {
     "data": {
      "application/vnd.jupyter.widget-view+json": {
       "model_id": "78332b1644224690a9e46937a69b7dc3",
       "version_major": 2,
       "version_minor": 0
      },
      "text/plain": [
       "HBox(children=(VBox(children=(IntProgress(value=0, max=1000), HTML(value=''))), Box(children=(HTML(value=''),)…"
      ]
     },
     "metadata": {},
     "output_type": "display_data"
    },
    {
     "name": "stdout",
     "output_type": "stream",
     "text": [
      "layers [1, 1, 1, 1, 6]\n"
     ]
    },
    {
     "data": {
      "application/vnd.jupyter.widget-view+json": {
       "model_id": "bcda34160d474d1ba2fc8d7dafb7ae47",
       "version_major": 2,
       "version_minor": 0
      },
      "text/plain": [
       "HBox(children=(VBox(children=(IntProgress(value=0, max=1000), HTML(value=''))), Box(children=(HTML(value=''),)…"
      ]
     },
     "metadata": {},
     "output_type": "display_data"
    },
    {
     "name": "stdout",
     "output_type": "stream",
     "text": [
      "layers [1, 1, 1, 1, 6]\n"
     ]
    },
    {
     "data": {
      "application/vnd.jupyter.widget-view+json": {
       "model_id": "909cfcd52aec44f99bb095b7667a68ff",
       "version_major": 2,
       "version_minor": 0
      },
      "text/plain": [
       "HBox(children=(VBox(children=(IntProgress(value=0, max=1000), HTML(value=''))), Box(children=(HTML(value=''),)…"
      ]
     },
     "metadata": {},
     "output_type": "display_data"
    },
    {
     "name": "stdout",
     "output_type": "stream",
     "text": [
      "layers [1, 1, 1, 1, 6]\n"
     ]
    },
    {
     "data": {
      "application/vnd.jupyter.widget-view+json": {
       "model_id": "d5016be9394b42778283e97062a0e5d4",
       "version_major": 2,
       "version_minor": 0
      },
      "text/plain": [
       "HBox(children=(VBox(children=(IntProgress(value=0, max=1000), HTML(value=''))), Box(children=(HTML(value=''),)…"
      ]
     },
     "metadata": {},
     "output_type": "display_data"
    },
    {
     "name": "stdout",
     "output_type": "stream",
     "text": [
      "layers [1, 1, 1, 1, 6]\n"
     ]
    },
    {
     "data": {
      "application/vnd.jupyter.widget-view+json": {
       "model_id": "57f99005d6ba467fa35da465f9d6fe82",
       "version_major": 2,
       "version_minor": 0
      },
      "text/plain": [
       "HBox(children=(VBox(children=(IntProgress(value=0, max=1000), HTML(value=''))), Box(children=(HTML(value=''),)…"
      ]
     },
     "metadata": {},
     "output_type": "display_data"
    }
   ],
   "source": [
    "for num_inducing in INDUCING:\n",
    "    print('layers',layers)\n",
    "    inits = ['PCA']*(len(layers)-1)\n",
    "    kernels = []\n",
    "    for i in layers[1:]:\n",
    "        kernels += [GPy.kern.RBF(i)]\n",
    "    \n",
    "    my = deepgp.DeepGP(layers,Y=train_Fy, X=train_x, \n",
    "                  inits=inits, \n",
    "                  kernels=kernels, # the kernels for each layer\n",
    "                  num_inducing=num_inducing, back_constraint=False)\n",
    "\n",
    "    my.initialize_parameter()\n",
    "    start = timex.time()\n",
    "    my.optimize(messages=True,max_iters=1000)\n",
    "    stop = timex.time()\n",
    "    TRAINING_TIMES_Y.append(stop-start)\n",
    "    start= timex.time()\n",
    "    _,_ = my.predict(test_x[1,:].reshape(-1,1).T)\n",
    "    stop = timex.time()\n",
    "    INFERENCE_TIME_Y.append(stop-start)\n",
    "    #-----X\n",
    "    #In distribution performance\n",
    "    mean_Fy,vary = my.predict(test_x)\n",
    "    mean_Fy = mean_Fy.squeeze()\n",
    "    std_Fy = np.sqrt(vary).squeeze()\n",
    "    PREDICTIONS_Y.append(mean_Fy)\n",
    "    STD_Y.append(std_Fy)\n",
    "    RMSE_Y.append(RMSE(test_Fy,mean_Fy)) \n",
    "    #Out of distro performance  \n",
    "    mean_Fy_out,vary_out = my.predict(test_x_out)\n",
    "    mean_Fy_out = mean_Fy_out.squeeze()\n",
    "    std_Fy_out = np.sqrt(vary_out).squeeze()\n",
    "    PREDICTIONS_Y_OUT.append(mean_Fy_out)\n",
    "    STD_Y_OUT.append(std_Fy_out)\n",
    "    RMSE_Y_OUT.append(RMSE(test_Fy_out,mean_Fy_out)) "
   ]
  },
  {
   "cell_type": "code",
   "execution_count": null,
   "metadata": {},
   "outputs": [
    {
     "name": "stdout",
     "output_type": "stream",
     "text": [
      "layers [1, 1, 1, 1, 6]\n"
     ]
    },
    {
     "data": {
      "application/vnd.jupyter.widget-view+json": {
       "model_id": "939f5b3bfc5a4c819ac2ec769e61322a",
       "version_major": 2,
       "version_minor": 0
      },
      "text/plain": [
       "HBox(children=(VBox(children=(IntProgress(value=0, max=1000), HTML(value=''))), Box(children=(HTML(value=''),)…"
      ]
     },
     "metadata": {},
     "output_type": "display_data"
    },
    {
     "name": "stdout",
     "output_type": "stream",
     "text": [
      "layers [1, 1, 1, 1, 6]\n"
     ]
    },
    {
     "data": {
      "application/vnd.jupyter.widget-view+json": {
       "model_id": "3eedfca182e24a3ea66e6c21c5b57150",
       "version_major": 2,
       "version_minor": 0
      },
      "text/plain": [
       "HBox(children=(VBox(children=(IntProgress(value=0, max=1000), HTML(value=''))), Box(children=(HTML(value=''),)…"
      ]
     },
     "metadata": {},
     "output_type": "display_data"
    },
    {
     "name": "stdout",
     "output_type": "stream",
     "text": [
      "layers [1, 1, 1, 1, 6]\n"
     ]
    },
    {
     "data": {
      "application/vnd.jupyter.widget-view+json": {
       "model_id": "1657e2bd675646f691059ea31530c67d",
       "version_major": 2,
       "version_minor": 0
      },
      "text/plain": [
       "HBox(children=(VBox(children=(IntProgress(value=0, max=1000), HTML(value=''))), Box(children=(HTML(value=''),)…"
      ]
     },
     "metadata": {},
     "output_type": "display_data"
    },
    {
     "name": "stdout",
     "output_type": "stream",
     "text": [
      "layers [1, 1, 1, 1, 6]\n"
     ]
    },
    {
     "data": {
      "application/vnd.jupyter.widget-view+json": {
       "model_id": "6ac393869ea64c6fb4e87433f46778e2",
       "version_major": 2,
       "version_minor": 0
      },
      "text/plain": [
       "HBox(children=(VBox(children=(IntProgress(value=0, max=1000), HTML(value=''))), Box(children=(HTML(value=''),)…"
      ]
     },
     "metadata": {},
     "output_type": "display_data"
    },
    {
     "name": "stdout",
     "output_type": "stream",
     "text": [
      "layers [1, 1, 1, 1, 6]\n"
     ]
    },
    {
     "data": {
      "application/vnd.jupyter.widget-view+json": {
       "model_id": "f4304ff73280428da71e7e2720233f19",
       "version_major": 2,
       "version_minor": 0
      },
      "text/plain": [
       "HBox(children=(VBox(children=(IntProgress(value=0, max=1000), HTML(value=''))), Box(children=(HTML(value=''),)…"
      ]
     },
     "metadata": {},
     "output_type": "display_data"
    },
    {
     "name": "stdout",
     "output_type": "stream",
     "text": [
      "layers [1, 1, 1, 1, 6]\n"
     ]
    },
    {
     "data": {
      "application/vnd.jupyter.widget-view+json": {
       "model_id": "f075e4ad54c24cb697bec05255781d9d",
       "version_major": 2,
       "version_minor": 0
      },
      "text/plain": [
       "HBox(children=(VBox(children=(IntProgress(value=0, max=1000), HTML(value=''))), Box(children=(HTML(value=''),)…"
      ]
     },
     "metadata": {},
     "output_type": "display_data"
    },
    {
     "name": "stdout",
     "output_type": "stream",
     "text": [
      "layers [1, 1, 1, 1, 6]\n"
     ]
    },
    {
     "data": {
      "application/vnd.jupyter.widget-view+json": {
       "model_id": "a80ff197484f4bfe897f3c92cea93bda",
       "version_major": 2,
       "version_minor": 0
      },
      "text/plain": [
       "HBox(children=(VBox(children=(IntProgress(value=0, max=1000), HTML(value=''))), Box(children=(HTML(value=''),)…"
      ]
     },
     "metadata": {},
     "output_type": "display_data"
    },
    {
     "name": "stdout",
     "output_type": "stream",
     "text": [
      "layers [1, 1, 1, 1, 6]\n"
     ]
    },
    {
     "data": {
      "application/vnd.jupyter.widget-view+json": {
       "model_id": "6b1a5805b37d4e32ac6efeeb40f06ecf",
       "version_major": 2,
       "version_minor": 0
      },
      "text/plain": [
       "HBox(children=(VBox(children=(IntProgress(value=0, max=1000), HTML(value=''))), Box(children=(HTML(value=''),)…"
      ]
     },
     "metadata": {},
     "output_type": "display_data"
    },
    {
     "name": "stdout",
     "output_type": "stream",
     "text": [
      "layers [1, 1, 1, 1, 6]\n"
     ]
    },
    {
     "data": {
      "application/vnd.jupyter.widget-view+json": {
       "model_id": "53b84de11f264388aeee0fcc85d7d9b1",
       "version_major": 2,
       "version_minor": 0
      },
      "text/plain": [
       "HBox(children=(VBox(children=(IntProgress(value=0, max=1000), HTML(value=''))), Box(children=(HTML(value=''),)…"
      ]
     },
     "metadata": {},
     "output_type": "display_data"
    },
    {
     "name": "stdout",
     "output_type": "stream",
     "text": [
      "layers [1, 1, 1, 1, 6]\n"
     ]
    },
    {
     "data": {
      "application/vnd.jupyter.widget-view+json": {
       "model_id": "68b0421c889a4605b942b72dc33cce4c",
       "version_major": 2,
       "version_minor": 0
      },
      "text/plain": [
       "HBox(children=(VBox(children=(IntProgress(value=0, max=1000), HTML(value=''))), Box(children=(HTML(value=''),)…"
      ]
     },
     "metadata": {},
     "output_type": "display_data"
    }
   ],
   "source": [
    "for num_inducing in INDUCING:\n",
    "    print('layers',layers)\n",
    "    inits = ['PCA']*(len(layers)-1)\n",
    "    kernels = []\n",
    "    for i in layers[1:]:\n",
    "        kernels += [GPy.kern.RBF(i)]\n",
    "    \n",
    "    mz = deepgp.DeepGP(layers,Y=train_Fz, X=train_x, \n",
    "                  inits=inits, \n",
    "                  kernels=kernels, # the kernels for each layer\n",
    "                  num_inducing=num_inducing, back_constraint=False)\n",
    "\n",
    "    mz.initialize_parameter()\n",
    "    start = timex.time()\n",
    "    mz.optimize(messages=True,max_iters=1000)\n",
    "    stop = timex.time()\n",
    "    TRAINING_TIMES_Z.append(stop-start)\n",
    "    start= timex.time()\n",
    "    _,_ = mz.predict(test_x[1,:].reshape(-1,1).T)\n",
    "    stop = timex.time()\n",
    "    INFERENCE_TIME_Z.append(stop-start)\n",
    "    #-----X\n",
    "    #In distribution performance\n",
    "    mean_Fz,varz = mz.predict(test_x)\n",
    "    mean_Fz = mean_Fz.squeeze()\n",
    "    std_Fz = np.sqrt(varz).squeeze()\n",
    "    PREDICTIONS_Z.append(mean_Fz)\n",
    "    STD_Z.append(std_Fz)\n",
    "    RMSE_Z.append(RMSE(test_Fz,mean_Fz)) \n",
    "    #Out of distro performance  \n",
    "    mean_Fz_out,varz_out = mz.predict(test_x_out)\n",
    "    mean_Fz_out = mean_Fz_out.squeeze()\n",
    "    std_Fz_out = np.sqrt(varz_out).squeeze()\n",
    "    PREDICTIONS_Z_OUT.append(mean_Fz_out)\n",
    "    STD_Z_OUT.append(std_Fz_out)\n",
    "    RMSE_Z_OUT.append(RMSE(test_Fz_out,mean_Fz_out)) "
   ]
  },
  {
   "cell_type": "code",
   "execution_count": null,
   "metadata": {},
   "outputs": [],
   "source": [
    "fig1 ,ax1 = plt.subplots(1,1,figsize =(5,5))\n",
    "\n",
    "TRAINING_TIMES_MEAN = np.sum(np.array([TRAINING_TIMES_X,TRAINING_TIMES_Y,TRAINING_TIMES_Z]).T,-1)\n",
    "INFERENCE_TIME_MEAN = np.sum(np.array([INFERENCE_TIME_X,INFERENCE_TIME_Y,INFERENCE_TIME_Z]).T,-1)\n",
    "RMSE_MEAN = np.mean(np.array([RMSE_X,RMSE_Y,RMSE_Z]).T,-1)\n",
    "RMSE_MEAN_OUT = np.mean(np.array([RMSE_X_OUT,RMSE_Y_OUT,RMSE_Z_OUT]).T,-1)\n",
    "\n",
    "NLL_X = [NLL(PREDICTIONS_X[i],test_Fx,STD_X[i]) for i in range(0,len(INDUCING))]\n",
    "NLL_Y = [NLL(PREDICTIONS_Y[i],test_Fy,STD_Y[1])for i in range(0,len(INDUCING))]\n",
    "NLL_Z = [NLL(PREDICTIONS_Z[i],test_Fz,STD_Z[1])for i in range(0,len(INDUCING))]\n",
    "NLL_MEAN = np.mean(np.array([NLL_X,NLL_Y,NLL_Z]).T,-1)\n",
    "NLL_X_OUT = [NLL(PREDICTIONS_X_OUT[i],test_Fx_out,STD_X_OUT[i]) for i in range(0,len(INDUCING))]\n",
    "NLL_Y_OUT = [NLL(PREDICTIONS_Y_OUT[i],test_Fy_out,STD_Y_OUT[i])for i in range(0,len(INDUCING))]\n",
    "NLL_Z_OUT = [NLL(PREDICTIONS_Z_OUT[i],test_Fz_out,STD_Z_OUT[i])for i in range(0,len(INDUCING))]\n",
    "NLL_MEAN_OUT = np.mean(np.array([NLL_X_OUT,NLL_Y_OUT,NLL_Z_OUT]).T,-1)\n",
    "print(NLL_X)\n",
    "\"\"\"\n",
    "ax1.plot(range(1,len(LAYERS)+1),TRAINING_TIMES_X,label = 'Training Time X',linewidth = 2)\n",
    "ax1.plot(range(1,len(LAYERS)+1),TRAINING_TIMES_Y,label = 'Training Time Y',linewidth = 2)\n",
    "ax1.plot(range(1,len(LAYERS)+1),TRAINING_TIMES_Z,label = 'Training Time Z',linewidth = 2)\n",
    "\"\"\"\n",
    "ax1.plot(INDUCING,TRAINING_TIMES_MEAN,label = 'Training Time Mean',linewidth = 3)\n",
    "ax1.set_ylabel('Training Time [s]')\n",
    "ax1.set_xlabel('Number of Inducing Points')\n",
    "ax1.legend()\n",
    "\n",
    "fig2 ,ax2 = plt.subplots(1,1,figsize =(5,5))\n",
    "\"\"\"\n",
    "ax2.plot(range(1,len(LAYERS)+1),INFERENCE_TIME_X,label = 'Inference Time X',linewidth = 2)\n",
    "ax2.plot(range(1,len(LAYERS)+1),INFERENCE_TIME_Y,label = 'Inference Time Y',linewidth = 2)\n",
    "ax2.plot(range(1,len(LAYERS)+1),INFERENCE_TIME_Z,label = 'Inference Time Z',linewidth = 2)\n",
    "\"\"\"\n",
    "ax2.plot(INDUCING,INFERENCE_TIME_MEAN,label = 'Inference Time Mean',linewidth = 3)\n",
    "ax2.set_ylabel('Inference Time [s]')\n",
    "ax2.set_xlabel('Number of Inducing Points')\n",
    "ax2.legend()\n",
    "\n",
    "fig3 ,ax3 = plt.subplots(1,1,figsize =(5,5))\n",
    "\"\"\"\n",
    "ax3.plot(INDUCING,RMSE_X,label = 'X - RMSE in',linewidth = 2)\n",
    "ax3.plot(INDUCING,RMSE_X_OUT,label = 'X - RMSE out',linewidth = 2)\n",
    "ax3.plot(INDUCING,RMSE_Y,label = 'Y - RMSE in',linewidth = 2)\n",
    "ax3.plot(INDUCING,RMSE_Y_OUT,label = 'Y - RMSE out',linewidth = 2)\n",
    "ax3.plot(INDUCING,RMSE_Z,label = 'Z - RMSE in',linewidth = 2)\n",
    "ax3.plot(INDUCING,RMSE_Z_OUT,label = 'Z - RMSE out',linewidth = 2)\n",
    "\"\"\"\n",
    "ax3.plot(INDUCING,RMSE_MEAN,label = 'RMSE in',linewidth = 3)\n",
    "ax3.plot(INDUCING,RMSE_MEAN_OUT,label = 'RMSE out',linewidth = 3)\n",
    "ax3.set_ylabel('RMSE [Nm]')\n",
    "ax3.set_xlabel('Number of Inducing Points')\n",
    "ax3.legend(loc = 'upper left')\n",
    "\n",
    "fig4 ,ax4 = plt.subplots(1,1,figsize =(5,5))\n",
    "\"\"\"\n",
    "ax3.plot(range(1,len(LAYERS)+1),RMSE_X,label = 'X - RMSE in',linewidth = 2)\n",
    "ax3.plot(range(1,len(LAYERS)+1),RMSE_X_OUT,label = 'X - RMSE out',linewidth = 2)\n",
    "ax3.plot(range(1,len(LAYERS)+1),RMSE_Y,label = 'Y - RMSE in',linewidth = 2)\n",
    "ax3.plot(range(1,len(LAYERS)+1),RMSE_Y_OUT,label = 'Y - RMSE out',linewidth = 2)\n",
    "ax3.plot(range(1,len(LAYERS)+1),RMSE_Z,label = 'Z - RMSE in',linewidth = 2)\n",
    "ax3.plot(range(1,len(LAYERS)+1),RMSE_Z_OUT,label = 'Z - RMSE out',linewidth = 2)\n",
    "\"\"\"\n",
    "ax4.plot(INDUCING,NLL_MEAN,label = 'NLL in',linewidth = 3)\n",
    "ax4.plot(INDUCING,NLL_MEAN_OUT,label = 'NLL out',linewidth = 3)\n",
    "ax4.set_ylabel('NLL')\n",
    "ax4.set_xlabel('Number of Inducing Points')\n",
    "ax4.legend(loc = 'lower left')\n",
    "\n",
    "filename = './InducingInfluenceRealDataTrainingTime.pdf' \n",
    "fig1.savefig(filename, format='pdf')\n",
    "filename = './InducingInfluenceRealDataTestingTime.pdf' \n",
    "fig2.savefig(filename, format='pdf')\n",
    "filename = './InducingInfluenceRealDataRMSE.pdf' \n",
    "fig3.savefig(filename, format='pdf')\n",
    "filename = './InducingInfluenceRealDataNLL.pdf' \n",
    "fig4.savefig(filename, format='pdf')"
   ]
  },
  {
   "cell_type": "code",
   "execution_count": null,
   "metadata": {},
   "outputs": [],
   "source": [
    "n = 4\n",
    "mean_Fx = PREDICTIONS_X[n]\n",
    "std_Fx = STD_X[n]\n",
    "mean_Fy = PREDICTIONS_Y[n]\n",
    "std_Fy = STD_Y[n]\n",
    "mean_Fz = PREDICTIONS_Z[n]\n",
    "std_Fz = STD_Z[n]\n",
    "\n",
    "\n",
    "fig , (ax1,ax2,ax3) = plt.subplots(3,1)\n",
    "#time = np.linspace(0,len(x_test_3),len(x_test_3))\n",
    "#xlim = None \n",
    "plt.suptitle('DGP - Predictions on the TEST set BAG3')\n",
    "#Plot predictions in Force X \n",
    "ax1.set_title('Residual Torque in X direction')\n",
    "ax1.plot(time,mean_Fx,label='Prediction',linewidth = 1)\n",
    "ax1.plot(time,test_Fx,label = 'True_output',linewidth = 1)\n",
    "ax1.plot(baseline_time,baseline_Fx,label = 'Baseline',linewidth = 1)\n",
    "ax1.fill_between(time,mean_Fx-3*std_Fx,mean_Fx+3*std_Fx, alpha=0.2,label='Confidence Bounds 3std',edgecolor = 'black')\n",
    "ax1.set_xlabel('Time [s]')\n",
    "ax1.set_ylabel(r'$\\Delta T_x$ [Nm]')\n",
    "ax1.legend()\n",
    "\n",
    "#Plot predictions in Fy axis \n",
    "ax2.set_title('Residual Torque in Y direction')\n",
    "ax2.plot(time,mean_Fy,label='Prediction',linewidth = 1 )\n",
    "ax2.plot(time,test_Fy,label = 'True_output',linewidth = 1 )\n",
    "ax2.plot(baseline_time,baseline_Fy,label = 'Baseline',linewidth = 1 )\n",
    "ax2.fill_between(time,mean_Fy-3*std_Fy,mean_Fy+3*std_Fy, alpha=0.2,label='Confidence Bounds 3std',edgecolor = 'black')\n",
    "ax2.set_xlabel('Time [s]')\n",
    "ax2.set_ylabel(r'$\\Delta T_y$ [Nm]')\n",
    "ax2.legend()\n",
    "\n",
    "#Plot predictions in Fz axis \n",
    "ax3.set_title('Residual Torque in Z direction')\n",
    "ax3.plot(time,mean_Fz,label='Prediction',linewidth = 1)\n",
    "ax3.plot(time,test_Fz,label = 'True_output',linewidth = 1 )\n",
    "ax3.plot(baseline_time,baseline_Fz,label = 'Baseline',linewidth = 1)\n",
    "ax3.fill_between(time,mean_Fz-3*std_Fz,mean_Fz+3*std_Fz, alpha=0.2,label='Confidence Bounds 3std',edgecolor = 'black')\n",
    "ax3.set_xlabel('Time [s]')\n",
    "ax3.set_ylabel(r'$\\Delta T_z$ [Nm]')\n",
    "ax3.legend()\n",
    "\n",
    "print('\\n')\n",
    "print('-------------------STATISTICS ON TEST SET BAG15--------------------')\n",
    "print('\\n-------Force in X -----')\n",
    "print('\\n \\n Root Mean Squared Error (RMSE)', RMSE(test_Fx,mean_Fx))\n",
    "print('\\n \\n Negative Log Likelihood (NLL)', NLL(test_Fx,mean_Fx,std_Fx))\n",
    "print('\\n')\n",
    "print('-------Force in Y -----')\n",
    "print('\\n \\n Root Mean Squared Error (RMSE)', RMSE(test_Fy,mean_Fy))\n",
    "print('\\n \\n Negative Log Likelihood (NLL)', NLL(test_Fy,mean_Fy,std_Fy))\n",
    "print('\\n')\n",
    "print('\\n')\n",
    "print('-------Force in Z -----')\n",
    "print('\\n \\n Root Mean Squared Error (RMSE)', RMSE(test_Fz,mean_Fz))\n",
    "print('\\n \\n Negative Log Likelihood (NLL)', NLL(test_Fz,mean_Fz,std_Fz))\n",
    "print('\\n')\n",
    "print('--------------------------------------------------')"
   ]
  },
  {
   "cell_type": "code",
   "execution_count": null,
   "metadata": {},
   "outputs": [],
   "source": [
    "n = 4\n",
    "mean_Fx_out = PREDICTIONS_X_OUT[n]\n",
    "std_Fx_out = STD_X_OUT[n]\n",
    "mean_Fy_out = PREDICTIONS_Y_OUT[n]\n",
    "std_Fy_out = STD_Y_OUT[n]\n",
    "mean_Fz_out = PREDICTIONS_Z_OUT[n]\n",
    "std_Fz_out = STD_Z_OUT[n]\n",
    "\n",
    "\n",
    "fig , (ax1,ax2,ax3) = plt.subplots(3,1)\n",
    "#time = np.linspace(0,len(x_test_3),len(x_test_3))\n",
    "#xlim = None \n",
    "plt.suptitle('DGP - Predictions on the TEST set BAG15')\n",
    "#Plot predictions in Force X \n",
    "ax1.set_title('Residual Torque in X direction')\n",
    "ax1.plot(time_out,mean_Fx_out,label='Prediction',linewidth = 1)\n",
    "ax1.plot(time_out,test_Fx_out,label = 'True_output',linewidth = 1)\n",
    "ax1.plot(baseline_time_out,baseline_Fx_out,label = 'Baseline',linewidth = 1)\n",
    "ax1.fill_between(time_out,mean_Fx_out-3*std_Fx_out,mean_Fx_out+3*std_Fx_out, alpha=0.2,label='Confidence Bounds 3std',edgecolor = 'black')\n",
    "ax1.set_xlabel('Time [s]')\n",
    "ax1.set_ylabel(r'$\\Delta T_x$ [Nm]')\n",
    "ax1.legend()\n",
    "\n",
    "#Plot predictions in Fy axis \n",
    "ax2.set_title('Residual Torque in Y direction')\n",
    "ax2.plot(time_out,mean_Fy_out,label='Prediction',linewidth = 1 )\n",
    "ax2.plot(time_out,test_Fy_out,label = 'True_output',linewidth = 1 )\n",
    "ax2.plot(baseline_time_out,baseline_Fy_out,label = 'Baseline',linewidth = 1 )\n",
    "ax2.fill_between(time_out,mean_Fy_out-3*std_Fy_out,mean_Fy_out+3*std_Fy_out, alpha=0.2,label='Confidence Bounds 3std',edgecolor = 'black')\n",
    "ax2.set_xlabel('Time [s]')\n",
    "ax2.set_ylabel(r'$\\Delta T_y$ [Nm]')\n",
    "ax2.legend()\n",
    "\n",
    "#Plot predictions in Fz axis \n",
    "ax3.set_title('Residual Torque in Z direction')\n",
    "ax3.plot(time_out,mean_Fz_out,label='Prediction',linewidth = 1)\n",
    "ax3.plot(time_out,test_Fz_out,label = 'True_output',linewidth = 1 )\n",
    "ax3.plot(baseline_time_out,baseline_Fz_out,label = 'Baseline',linewidth = 1)\n",
    "ax3.fill_between(time_out,mean_Fz_out-3*std_Fz_out,mean_Fz_out+3*std_Fz_out, alpha=0.2,label='Confidence Bounds 3std',edgecolor = 'black')\n",
    "ax3.set_xlabel('Time [s]')\n",
    "ax3.set_ylabel(r'$\\Delta T_z$ [Nm]')\n",
    "ax3.legend()\n",
    "\n",
    "print('\\n')\n",
    "print('-------------------STATISTICS ON TEST SET BAG15--------------------')\n",
    "print('\\n-------Force in X -----')\n",
    "print('\\n \\n Root Mean Squared Error (RMSE)', RMSE(test_Fx_out,mean_Fx_out))\n",
    "print('\\n \\n Negative Log Likelihood (NLL)', NLL(test_Fx_out,mean_Fx_out,std_Fx_out))\n",
    "print('\\n')\n",
    "print('-------Force in Y -----')\n",
    "print('\\n \\n Root Mean Squared Error (RMSE)', RMSE(test_Fy_out,mean_Fy_out))\n",
    "print('\\n \\n Negative Log Likelihood (NLL)', NLL(test_Fy_out,mean_Fy_out,std_Fy_out))\n",
    "print('\\n')\n",
    "print('\\n')\n",
    "print('-------Force in Z -----')\n",
    "print('\\n \\n Root Mean Squared Error (RMSE)', RMSE(test_Fz_out,mean_Fz_out))\n",
    "print('\\n \\n Negative Log Likelihood (NLL)', NLL(test_Fz_out,mean_Fz_out,std_Fz_out))\n",
    "print('\\n')\n",
    "print('--------------------------------------------------')"
   ]
  },
  {
   "cell_type": "code",
   "execution_count": null,
   "metadata": {},
   "outputs": [],
   "source": []
  }
 ],
 "metadata": {
  "kernelspec": {
   "display_name": "Python 3",
   "language": "python",
   "name": "python3"
  },
  "language_info": {
   "codemirror_mode": {
    "name": "ipython",
    "version": 3
   },
   "file_extension": ".py",
   "mimetype": "text/x-python",
   "name": "python",
   "nbconvert_exporter": "python",
   "pygments_lexer": "ipython3",
   "version": "3.8.3"
  }
 },
 "nbformat": 4,
 "nbformat_minor": 4
}
